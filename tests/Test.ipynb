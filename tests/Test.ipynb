{
 "cells": [
  {
   "cell_type": "code",
   "execution_count": 1,
   "metadata": {},
   "outputs": [
    {
     "name": "stdout",
     "output_type": "stream",
     "text": [
      "C:\\Users\\qaz89\\Documents\\Git Repos\n"
     ]
    }
   ],
   "source": [
    "%cd ../.."
   ]
  },
  {
   "cell_type": "code",
   "execution_count": 2,
   "metadata": {},
   "outputs": [
    {
     "name": "stdout",
     "output_type": "stream",
     "text": [
      "C:\\Users\\qaz89\\Documents\\Git Repos\n"
     ]
    }
   ],
   "source": [
    "!cd"
   ]
  },
  {
   "cell_type": "code",
   "execution_count": 3,
   "metadata": {},
   "outputs": [
    {
     "name": "stdout",
     "output_type": "stream",
     "text": [
      "3.7.4 (tags/v3.7.4:e09359112e, Jul  8 2019, 20:34:20) [MSC v.1916 64 bit (AMD64)]\n"
     ]
    }
   ],
   "source": [
    "import os\n",
    "import sys\n",
    "print(sys.version)"
   ]
  },
  {
   "cell_type": "code",
   "execution_count": 4,
   "metadata": {},
   "outputs": [],
   "source": [
    "import numpy as np\n",
    "\n",
    "import torch\n",
    "import torch.nn.functional as F\n",
    "import torch.nn as nn\n",
    "import torch.utils.model_zoo as model_zoo\n",
    "import torchvision.transforms as transforms\n",
    "import torchvision\n",
    "\n",
    "import pdb\n",
    "import math\n",
    "import matplotlib.pyplot as plt\n",
    "import glob\n",
    "import PIL\n",
    "import json"
   ]
  },
  {
   "cell_type": "markdown",
   "metadata": {},
   "source": [
    "### Build the model"
   ]
  },
  {
   "cell_type": "code",
   "execution_count": 5,
   "metadata": {},
   "outputs": [],
   "source": [
    "# practice building the model\n",
    "class SimpleCNN(nn.Module):\n",
    "    \n",
    "    def __init__(self, num_channels=1, num_classes=10):\n",
    "        super(SimpleCNN, self).__init__()\n",
    "        self.conv1 = nn.Conv2d(num_channels, 32, 3, stride=1, padding=1)\n",
    "        self.conv2 = nn.Conv2d(32, 32, 3, stride=1, padding=1)\n",
    "        self.pool1 = nn.MaxPool2d(2)\n",
    "        self.drop1 = nn.Dropout(0.5)\n",
    "        self.fc1 = nn.Linear(14*14*32, 128)\n",
    "        self.drop2 = nn.Dropout(0.5)\n",
    "        self.fc2 = nn.Linear(128, num_classes)\n",
    "        \n",
    "    def forward(self, X):\n",
    "        X = F.relu(self.conv1(X))\n",
    "        X = F.relu(self.conv2(X))\n",
    "        X = self.pool1(X)\n",
    "        X = self.drop1(X)\n",
    "        X = X.reshape(-1, 14*14*32)\n",
    "        X = F.relu(self.fc1(X))\n",
    "        X = self.drop2(X)\n",
    "        X = self.fc2(X)\n",
    "        \n",
    "        return X # logits"
   ]
  },
  {
   "cell_type": "markdown",
   "metadata": {},
   "source": [
    "### Define helper functions for encoding/decoding segmentation map\n",
    "<img src=\"https://github.com/ykchua1/deepLrn/raw/master/images/fig_segmap.PNG\" alt=\"fig\" width=\"200\"/>\n",
    "\n",
    "Inspired by this [webpage](https://www.learnopencv.com/pytorch-for-beginners-semantic-segmentation-using-torchvision/)"
   ]
  },
  {
   "cell_type": "code",
   "execution_count": 22,
   "metadata": {},
   "outputs": [],
   "source": [
    "# import json color palette file\n",
    "with open('deepLrn/data/scene_parsing/cityscapes_info.json') as f:\n",
    "    palette_data = json.loads(f.read())\n",
    "    \n",
    "label2train = dict(palette_data['label2train'])\n",
    "labels_txt = palette_data['label']\n",
    "palette = palette_data['palette']"
   ]
  },
  {
   "cell_type": "code",
   "execution_count": 47,
   "metadata": {},
   "outputs": [],
   "source": [
    "def full2partial(inp): # converts the 35 class label image into a 19 class segmap array\n",
    "    inp = np.asarray(inp)\n",
    "    return np.vectorize(label2train.get)(inp)\n",
    "\n",
    "def partial2array(inp, nClass=19): # converts partial array to 19 x H x W array\n",
    "    \n",
    "    # initialise output array\n",
    "    out = [np.zeros_like(inp).astype(np.uint8) for i in range(nClass)]\n",
    "    \n",
    "    for label in range(nClass):\n",
    "        idx = inp == label\n",
    "        out[label][idx] = 1\n",
    "    \n",
    "    return np.stack(out)\n",
    "\n",
    "def segmap2rgb(image, palette=palette): # converts image (segmap) to rgb\n",
    "    \n",
    "    nc = len(palette)\n",
    "    \n",
    "    # define the class to color mapping\n",
    "    label_colors = np.array(palette)\n",
    "    \n",
    "    r = np.zeros_like(image).astype(np.uint8)\n",
    "    g = np.zeros_like(image).astype(np.uint8)\n",
    "    b = np.zeros_like(image).astype(np.uint8)\n",
    "    \n",
    "    for label in range(0, nc):\n",
    "        idx = image == label\n",
    "        r[idx] = label_colors[label, 0]\n",
    "        g[idx] = label_colors[label, 1]\n",
    "        b[idx] = label_colors[label, 2]\n",
    "        \n",
    "    rgb = np.stack([r, g, b], axis=2)\n",
    "    return rgb    "
   ]
  },
  {
   "cell_type": "markdown",
   "metadata": {},
   "source": [
    "### Training label images exploration\n",
    "* For more information on indexed color images, click [here](https://drububu.com/tutorial/image-types.html)"
   ]
  },
  {
   "cell_type": "code",
   "execution_count": 30,
   "metadata": {
    "scrolled": false
   },
   "outputs": [
    {
     "name": "stdout",
     "output_type": "stream",
     "text": [
      "Shape: (704, 1280) \n",
      "Unique pixel values: [ 0  1  5  7  8 11 12 13 15 17 19 20 21 22 23 24 26 27]\n"
     ]
    }
   ],
   "source": [
    "# show numpy shape of sample given training label image\n",
    "\n",
    "im = (PIL.Image.open(\"deepLrn/data/data\\GTA_V/train_label/00007.png\"))\n",
    "im_array = np.asarray(im)\n",
    "print('Shape:', im_array.shape, '\\nUnique pixel values:', np.unique(im_array))"
   ]
  },
  {
   "cell_type": "code",
   "execution_count": 21,
   "metadata": {},
   "outputs": [
    {
     "name": "stdout",
     "output_type": "stream",
     "text": [
      "Shape: (640, 1280) \n",
      "Unique pixel values: [ 0  1  3  4  6  7  8 11 12 17 19 20 21 22 23 24 25 26 32]\n"
     ]
    }
   ],
   "source": [
    "# show numpy shape of sample given val label image\n",
    "\n",
    "im = (PIL.Image.open(\"deepLrn/data/data/CItyscapes/val_label/aachen_000008_000019_gtFine_labelIds.png\"))\n",
    "im_array = np.asarray(im)\n",
    "print('Shape:', im_array.shape, '\\nUnique pixel values:', np.unique(im_array))"
   ]
  }
 ],
 "metadata": {
  "kernelspec": {
   "display_name": "Python 3",
   "language": "python",
   "name": "python3"
  },
  "language_info": {
   "codemirror_mode": {
    "name": "ipython",
    "version": 3
   },
   "file_extension": ".py",
   "mimetype": "text/x-python",
   "name": "python",
   "nbconvert_exporter": "python",
   "pygments_lexer": "ipython3",
   "version": "3.7.4"
  }
 },
 "nbformat": 4,
 "nbformat_minor": 2
}
