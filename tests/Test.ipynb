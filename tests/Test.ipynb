{
 "cells": [
  {
   "cell_type": "code",
   "execution_count": 17,
   "metadata": {},
   "outputs": [
    {
     "name": "stdout",
     "output_type": "stream",
     "text": [
      "C:\\Users\\qaz89\\documents\\Git Repos\n"
     ]
    }
   ],
   "source": [
    "%cd ../.."
   ]
  },
  {
   "cell_type": "code",
   "execution_count": 20,
   "metadata": {},
   "outputs": [
    {
     "name": "stdout",
     "output_type": "stream",
     "text": [
      "C:\\Users\\qaz89\\documents\\Git Repos\n"
     ]
    }
   ],
   "source": [
    "!cd"
   ]
  },
  {
   "cell_type": "code",
   "execution_count": 1,
   "metadata": {},
   "outputs": [
    {
     "name": "stdout",
     "output_type": "stream",
     "text": [
      "3.7.4 (tags/v3.7.4:e09359112e, Jul  8 2019, 20:34:20) [MSC v.1916 64 bit (AMD64)]\n"
     ]
    }
   ],
   "source": [
    "import os\n",
    "import sys\n",
    "print(sys.version)"
   ]
  },
  {
   "cell_type": "code",
   "execution_count": 2,
   "metadata": {},
   "outputs": [],
   "source": [
    "import numpy as np\n",
    "\n",
    "import torch\n",
    "import torch.nn.functional as F\n",
    "import torch.nn as nn\n",
    "import torch.utils.model_zoo as model_zoo\n",
    "import torchvision.transforms as transforms\n",
    "import torchvision\n",
    "\n",
    "import pdb\n",
    "import math\n",
    "import matplotlib.pyplot as plt\n",
    "import glob\n",
    "import PIL"
   ]
  },
  {
   "cell_type": "markdown",
   "metadata": {},
   "source": [
    "### Build the model"
   ]
  },
  {
   "cell_type": "code",
   "execution_count": 24,
   "metadata": {},
   "outputs": [],
   "source": [
    "# practice building the model\n",
    "class SimpleCNN(nn.Module):\n",
    "    \n",
    "    def __init__(self, num_channels=1, num_classes=10):\n",
    "        super(SimpleCNN, self).__init__()\n",
    "        self.conv1 = nn.Conv2d(num_channels, 32, 3, stride=1, padding=1)\n",
    "        self.conv2 = nn.Conv2d(32, 32, 3, stride=1, padding=1)\n",
    "        self.pool1 = nn.MaxPool2d(2)\n",
    "        self.drop1 = nn.Dropout(0.5)\n",
    "        self.fc1 = nn.Linear(14*14*32, 128)\n",
    "        self.drop2 = nn.Dropout(0.5)\n",
    "        self.fc2 = nn.Linear(128, num_classes)\n",
    "        \n",
    "    def forward(self, X):\n",
    "        X = F.relu(self.conv1(X))\n",
    "        X = F.relu(self.conv2(X))\n",
    "        X = self.pool1(X)\n",
    "        X = self.drop1(X)\n",
    "        X = X.reshape(-1, 14*14*32)\n",
    "        X = F.relu(self.fc1(X))\n",
    "        X = self.drop2(X)\n",
    "        X = self.fc2(X)\n",
    "        \n",
    "        return X # logits"
   ]
  },
  {
   "cell_type": "markdown",
   "metadata": {},
   "source": [
    "### Define helper function for decoding segmentation map\n",
    "<img src=\"https://github.com/ykchua1/deepLrn/raw/master/images/fig_segmap.PNG\" alt=\"fig\" width=\"150\"/>\n",
    "\n",
    "Inspired by this [webpage](https://www.learnopencv.com/pytorch-for-beginners-semantic-segmentation-using-torchvision/)"
   ]
  },
  {
   "cell_type": "code",
   "execution_count": 25,
   "metadata": {},
   "outputs": [],
   "source": [
    "def decode_segmap(image, nc=3):\n",
    "    \n",
    "    # define the class to color mapping\n",
    "    label_colors = np.array([(0,0,0), (128,0,0), (0,128,0)])\n",
    "    \n",
    "    r = np.zeros_like(image).astype(np.uint8)\n",
    "    g = np.zeros_like(image).astype(np.uint8)\n",
    "    b = np.zeros_like(image).astype(np.uint8)\n",
    "    \n",
    "    for label in range(0, nc):\n",
    "        idx = image == label\n",
    "        r[idx] = label_colors[label, 0]\n",
    "        g[idx] = label_colors[label, 1]\n",
    "        b[idx] = label_colors[label, 2]\n",
    "        \n",
    "    rgb = np.stack([r, g, b], axis=2)\n",
    "    return rgb    "
   ]
  }
 ],
 "metadata": {
  "kernelspec": {
   "display_name": "Python 3",
   "language": "python",
   "name": "python3"
  },
  "language_info": {
   "codemirror_mode": {
    "name": "ipython",
    "version": 3
   },
   "file_extension": ".py",
   "mimetype": "text/x-python",
   "name": "python",
   "nbconvert_exporter": "python",
   "pygments_lexer": "ipython3",
   "version": "3.7.4"
  }
 },
 "nbformat": 4,
 "nbformat_minor": 2
}
